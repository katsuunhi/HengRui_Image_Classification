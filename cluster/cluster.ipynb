{
 "cells": [
  {
   "cell_type": "code",
   "execution_count": null,
   "metadata": {},
   "outputs": [],
   "source": [
    "from PCV.tools import imtools\n",
    "import pickle\n",
    "from scipy import *\n",
    "from pylab import *\n",
    "from PIL import Image\n",
    "from scipy.cluster.vq import *\n",
    "from PCV.tools import pca\n",
    "# Uses sparse pca codepath.\n",
    "imlist = imtools.get_imlist('181_256')\n"
   ]
  },
  {
   "cell_type": "code",
   "execution_count": null,
   "metadata": {
    "scrolled": true
   },
   "outputs": [],
   "source": [
    "images = []\n",
    "for image in imlist:\n",
    "    images.append(np.array(Image.open(image).convert('L').resize((300,300))).flatten())\n",
    "print(images[60])"
   ]
  },
  {
   "cell_type": "code",
   "execution_count": null,
   "metadata": {},
   "outputs": [],
   "source": [
    "from sklearn.cluster import KMeans\n",
    "model = KMeans(n_clusters = 20, max_iter = 3, n_jobs = 4) #分为k类\n",
    "#model = KMeans(n_clusters = k, n_jobs = 4, max_iter = iteration) #分为k类，并发数4\n",
    "model.fit(images)"
   ]
  },
  {
   "cell_type": "code",
   "execution_count": null,
   "metadata": {},
   "outputs": [],
   "source": [
    "model.labels_"
   ]
  },
  {
   "cell_type": "code",
   "execution_count": null,
   "metadata": {},
   "outputs": [],
   "source": [
    "from sklearn.manifold import TSNE\n",
    "import pandas as pd\n",
    "tsne = TSNE()\n",
    "tsne.fit_transform(images) #进行数据降维,并返回结果\n",
    "tsne = pd.DataFrame(tsne.embedding_, index = images.index) #转换数据格式\n",
    "\n",
    "import matplotlib.pyplot as plt\n",
    "plt.rcParams['font.sans-serif'] = ['SimHei'] #用来正常显示中文标签\n",
    "plt.rcParams['axes.unicode_minus'] = False #用来正常显示负号\n",
    "\n",
    "#不同类别用不同颜色和样式绘图\n",
    "d = tsne[r[u'聚类类别'] == 0]     #找出聚类类别为0的数据对应的降维结果\n",
    "plt.plot(d[0], d[1], 'r.')\n",
    "d = tsne[r[u'聚类类别'] == 1]\n",
    "plt.plot(d[0], d[1], 'go')\n",
    "d = tsne[r[u'聚类类别'] == 2]\n",
    "plt.plot(d[0], d[1], 'b*')\n",
    "plt.show()"
   ]
  }
 ],
 "metadata": {
  "kernelspec": {
   "display_name": "Python 3",
   "language": "python",
   "name": "python3"
  },
  "language_info": {
   "codemirror_mode": {
    "name": "ipython",
    "version": 3
   },
   "file_extension": ".py",
   "mimetype": "text/x-python",
   "name": "python",
   "nbconvert_exporter": "python",
   "pygments_lexer": "ipython3",
   "version": "3.7.3"
  }
 },
 "nbformat": 4,
 "nbformat_minor": 2
}
